{
 "cells": [
  {
   "cell_type": "markdown",
   "metadata": {},
   "source": [
    "<title>Lab 5 - Cross-Validation for Model Selection</title>\n",
    "\n",
    "# Lab 5 - Cross-Validation for Model Selection\n",
    "#### Parthasarathy Rajendiran <br>8883828<hr>"
   ]
  },
  {
   "cell_type": "code",
   "execution_count": 1,
   "metadata": {},
   "outputs": [],
   "source": [
    "import pandas as pd\n",
    "import seaborn as sns\n",
    "import matplotlib.pyplot as plt\n",
    "\n",
    "from sklearn.datasets import load_diabetes\n",
    "from sklearn.model_selection import train_test_split, KFold, cross_val_score, cross_val_predict\n",
    "from sklearn.preprocessing import PolynomialFeatures\n",
    "from sklearn.linear_model import LinearRegression\n",
    "from sklearn.pipeline import make_pipeline\n",
    "from sklearn.metrics import r2_score, mean_absolute_error, mean_absolute_percentage_error"
   ]
  },
  {
   "cell_type": "markdown",
   "metadata": {},
   "source": [
    "#### Loading Diabetes dataset"
   ]
  },
  {
   "cell_type": "code",
   "execution_count": 2,
   "metadata": {},
   "outputs": [
    {
     "name": "stdout",
     "output_type": "stream",
     "text": [
      "The dataset of size (442, 10) has been splitted into\n",
      "Training   : (353, 10)\n",
      "Testing    : (89, 10)\n"
     ]
    }
   ],
   "source": [
    "diabetes_X, diabetes_y = load_diabetes(return_X_y=True, as_frame=True, scaled=False)\n",
    "\n",
    "X_train, X_test, y_train, y_test = train_test_split(diabetes_X, diabetes_y, test_size=0.2, random_state=8883828)\n",
    "\n",
    "print(f'The dataset of size {diabetes_X.shape} has been splitted into')\n",
    "print(f'Training   : {X_train.shape}')\n",
    "print(f'Testing    : {X_test.shape}')"
   ]
  },
  {
   "cell_type": "markdown",
   "metadata": {},
   "source": [
    "#### Cross validation of Polynomial models ranging from degree 0 to 8"
   ]
  },
  {
   "cell_type": "code",
   "execution_count": 3,
   "metadata": {},
   "outputs": [],
   "source": [
    "results = []\n",
    "for degree in range(9):\n",
    "    model = make_pipeline(PolynomialFeatures(degree=degree), LinearRegression())\n",
    "\n",
    "    cv = KFold(n_splits=5, shuffle=True, random_state=8883828)\n",
    "\n",
    "    # scores = cross_val_score(model, X_train, y_train, cv=5, scoring='neg_mean_absolute_error')\n",
    "    # mae_scores = -scores\n",
    "\n",
    "    y_train_pred = cross_val_predict(model, X_train, y_train, cv=cv)\n",
    "\n",
    "    mae_score = mean_absolute_error(y_train, y_train_pred)\n",
    "    mape_score = mean_absolute_percentage_error(y_train, y_train_pred)\n",
    "    r2 = r2_score(y_train, y_train_pred)\n",
    "\n",
    "    results.append({'Degree': degree, f'R\\u00b2': r2, 'MAE': mae_score, 'MAPE': mape_score})"
   ]
  },
  {
   "cell_type": "markdown",
   "metadata": {},
   "source": [
    "#### Summarizing Cross validation results"
   ]
  },
  {
   "cell_type": "code",
   "execution_count": 4,
   "metadata": {},
   "outputs": [
    {
     "data": {
      "text/html": [
       "<div>\n",
       "<style scoped>\n",
       "    .dataframe tbody tr th:only-of-type {\n",
       "        vertical-align: middle;\n",
       "    }\n",
       "\n",
       "    .dataframe tbody tr th {\n",
       "        vertical-align: top;\n",
       "    }\n",
       "\n",
       "    .dataframe thead th {\n",
       "        text-align: right;\n",
       "    }\n",
       "</style>\n",
       "<table border=\"1\" class=\"dataframe\">\n",
       "  <thead>\n",
       "    <tr style=\"text-align: right;\">\n",
       "      <th></th>\n",
       "      <th>Degree</th>\n",
       "      <th>R²</th>\n",
       "      <th>MAE</th>\n",
       "      <th>MAPE</th>\n",
       "    </tr>\n",
       "  </thead>\n",
       "  <tbody>\n",
       "    <tr>\n",
       "      <th>0</th>\n",
       "      <td>0</td>\n",
       "      <td>-0.007779</td>\n",
       "      <td>65.936130</td>\n",
       "      <td>0.632679</td>\n",
       "    </tr>\n",
       "    <tr>\n",
       "      <th>1</th>\n",
       "      <td>1</td>\n",
       "      <td>0.491912</td>\n",
       "      <td>44.002901</td>\n",
       "      <td>0.400800</td>\n",
       "    </tr>\n",
       "    <tr>\n",
       "      <th>2</th>\n",
       "      <td>2</td>\n",
       "      <td>-0.294991</td>\n",
       "      <td>62.155391</td>\n",
       "      <td>0.538277</td>\n",
       "    </tr>\n",
       "    <tr>\n",
       "      <th>3</th>\n",
       "      <td>3</td>\n",
       "      <td>-13476.739302</td>\n",
       "      <td>1533.756033</td>\n",
       "      <td>12.090542</td>\n",
       "    </tr>\n",
       "    <tr>\n",
       "      <th>4</th>\n",
       "      <td>4</td>\n",
       "      <td>-105.880240</td>\n",
       "      <td>445.522376</td>\n",
       "      <td>3.765822</td>\n",
       "    </tr>\n",
       "    <tr>\n",
       "      <th>5</th>\n",
       "      <td>5</td>\n",
       "      <td>-805.289646</td>\n",
       "      <td>606.445208</td>\n",
       "      <td>5.472881</td>\n",
       "    </tr>\n",
       "    <tr>\n",
       "      <th>6</th>\n",
       "      <td>6</td>\n",
       "      <td>-1235.773873</td>\n",
       "      <td>742.616891</td>\n",
       "      <td>6.512530</td>\n",
       "    </tr>\n",
       "    <tr>\n",
       "      <th>7</th>\n",
       "      <td>7</td>\n",
       "      <td>-1304.434863</td>\n",
       "      <td>874.794276</td>\n",
       "      <td>7.273089</td>\n",
       "    </tr>\n",
       "    <tr>\n",
       "      <th>8</th>\n",
       "      <td>8</td>\n",
       "      <td>-1421.906398</td>\n",
       "      <td>1040.585687</td>\n",
       "      <td>7.909656</td>\n",
       "    </tr>\n",
       "  </tbody>\n",
       "</table>\n",
       "</div>"
      ],
      "text/plain": [
       "   Degree            R²          MAE       MAPE\n",
       "0       0     -0.007779    65.936130   0.632679\n",
       "1       1      0.491912    44.002901   0.400800\n",
       "2       2     -0.294991    62.155391   0.538277\n",
       "3       3 -13476.739302  1533.756033  12.090542\n",
       "4       4   -105.880240   445.522376   3.765822\n",
       "5       5   -805.289646   606.445208   5.472881\n",
       "6       6  -1235.773873   742.616891   6.512530\n",
       "7       7  -1304.434863   874.794276   7.273089\n",
       "8       8  -1421.906398  1040.585687   7.909656"
      ]
     },
     "metadata": {},
     "output_type": "display_data"
    }
   ],
   "source": [
    "results_df = pd.DataFrame(results)\n",
    "display(results_df)"
   ]
  },
  {
   "cell_type": "code",
   "execution_count": 5,
   "metadata": {},
   "outputs": [],
   "source": [
    "best_results = {}\n",
    "for col in ['R²', 'MAE', 'MAPE']:\n",
    "    best_score = results_df[col].max() if col == 'R²' else results_df[col].min()\n",
    "    best_results[col] = {\n",
    "        'Mean': results_df[col].mean(),\n",
    "        'Std': results_df[col].std(),\n",
    "        'Best Score': best_score,\n",
    "        'Best Degree': results_df.loc[results_df[col] == best_score, 'Degree'].to_list()[0]\n",
    "    }\n",
    "best_results_df = pd.DataFrame(best_results).T\n",
    "best_results_df['Best Degree'] = best_results_df['Best Degree'].astype(int)"
   ]
  },
  {
   "cell_type": "markdown",
   "metadata": {},
   "source": [
    "##### Mean and Standard Deviation of metrics"
   ]
  },
  {
   "cell_type": "code",
   "execution_count": 6,
   "metadata": {},
   "outputs": [
    {
     "data": {
      "text/html": [
       "<div>\n",
       "<style scoped>\n",
       "    .dataframe tbody tr th:only-of-type {\n",
       "        vertical-align: middle;\n",
       "    }\n",
       "\n",
       "    .dataframe tbody tr th {\n",
       "        vertical-align: top;\n",
       "    }\n",
       "\n",
       "    .dataframe thead th {\n",
       "        text-align: right;\n",
       "    }\n",
       "</style>\n",
       "<table border=\"1\" class=\"dataframe\">\n",
       "  <thead>\n",
       "    <tr style=\"text-align: right;\">\n",
       "      <th></th>\n",
       "      <th>Mean</th>\n",
       "      <th>Std</th>\n",
       "    </tr>\n",
       "  </thead>\n",
       "  <tbody>\n",
       "    <tr>\n",
       "      <th>R²</th>\n",
       "      <td>-2038.870576</td>\n",
       "      <td>4331.855416</td>\n",
       "    </tr>\n",
       "    <tr>\n",
       "      <th>MAE</th>\n",
       "      <td>601.757210</td>\n",
       "      <td>508.598374</td>\n",
       "    </tr>\n",
       "    <tr>\n",
       "      <th>MAPE</th>\n",
       "      <td>4.955142</td>\n",
       "      <td>4.000912</td>\n",
       "    </tr>\n",
       "  </tbody>\n",
       "</table>\n",
       "</div>"
      ],
      "text/plain": [
       "             Mean          Std\n",
       "R²   -2038.870576  4331.855416\n",
       "MAE    601.757210   508.598374\n",
       "MAPE     4.955142     4.000912"
      ]
     },
     "metadata": {},
     "output_type": "display_data"
    }
   ],
   "source": [
    "display(best_results_df[['Mean', 'Std']])"
   ]
  },
  {
   "cell_type": "markdown",
   "metadata": {},
   "source": [
    "<h4>Finding best model</h4>based on the highest performance on each metric"
   ]
  },
  {
   "cell_type": "markdown",
   "metadata": {},
   "source": [
    "Best Performance can be identified by finding the model with <br>\n",
    "* the lowest Mean Absolute Error (MAE)\n",
    "* the lowest Mean Absolute Percentage Error (MAPE)\n",
    "* the R² closest to 1"
   ]
  },
  {
   "cell_type": "code",
   "execution_count": 7,
   "metadata": {},
   "outputs": [
    {
     "data": {
      "image/png": "[encoded data removed]",
      "text/plain": [
       "<Figure size 1200x400 with 3 Axes>"
      ]
     },
     "metadata": {},
     "output_type": "display_data"
    }
   ],
   "source": [
    "sns.set_theme()\n",
    "fig, axes = plt.subplots(1, 3, figsize=(12, 4))\n",
    "\n",
    "for i, metric in enumerate(['MAE', 'MAPE', 'R²']):\n",
    "    sns.lineplot(results_df, x='Degree', y=metric, ax=axes[i])\n",
    "\n",
    "    deg = best_results[metric]['Best Degree']\n",
    "    scr = best_results[metric]['Best Score']\n",
    "    sd = best_results[metric]['Std']\n",
    "    x_center = (axes[i].get_xlim()[1] - axes[i].get_xlim()[0]) / 2\n",
    "    y_center = (axes[i].get_ylim()[1] - axes[i].get_ylim()[0]) / 2\n",
    "    y_off = (results_df[metric].max() - results_df[metric].min()) / len(results_df)\n",
    "    y_dir = -1 if best_results[metric]['Mean'] < 0 else 1\n",
    "    axes[i].axvline(x=deg, color='r', linestyle='--')\n",
    "    axes[i].text(deg - 0.5, (y_center - y_off)*y_dir, f'Best Degree: {deg}', fontsize=10, color='red', rotation='vertical')\n",
    "    axes[i].axhline(y=scr, color='r', linestyle='--')\n",
    "    axes[i].text(x_center, (scr + (y_off/2))*y_dir, f'Best Score: {scr:.2f}', fontsize=10, color='red', rotation='horizontal')\n",
    "    axes[i].set_title(metric)\n",
    "    axes[i].xaxis.set_ticks(results_df['Degree'])\n",
    "\n",
    "plt.suptitle('Comparison of Models')\n",
    "fig.tight_layout()\n",
    "plt.show()"
   ]
  },
  {
   "cell_type": "code",
   "execution_count": 8,
   "metadata": {},
   "outputs": [
    {
     "data": {
      "text/html": [
       "<div>\n",
       "<style scoped>\n",
       "    .dataframe tbody tr th:only-of-type {\n",
       "        vertical-align: middle;\n",
       "    }\n",
       "\n",
       "    .dataframe tbody tr th {\n",
       "        vertical-align: top;\n",
       "    }\n",
       "\n",
       "    .dataframe thead th {\n",
       "        text-align: right;\n",
       "    }\n",
       "</style>\n",
       "<table border=\"1\" class=\"dataframe\">\n",
       "  <thead>\n",
       "    <tr style=\"text-align: right;\">\n",
       "      <th></th>\n",
       "      <th>Best Score</th>\n",
       "      <th>Best Degree</th>\n",
       "    </tr>\n",
       "  </thead>\n",
       "  <tbody>\n",
       "    <tr>\n",
       "      <th>R²</th>\n",
       "      <td>0.491912</td>\n",
       "      <td>1</td>\n",
       "    </tr>\n",
       "    <tr>\n",
       "      <th>MAE</th>\n",
       "      <td>44.002901</td>\n",
       "      <td>1</td>\n",
       "    </tr>\n",
       "    <tr>\n",
       "      <th>MAPE</th>\n",
       "      <td>0.400800</td>\n",
       "      <td>1</td>\n",
       "    </tr>\n",
       "  </tbody>\n",
       "</table>\n",
       "</div>"
      ],
      "text/plain": [
       "      Best Score  Best Degree\n",
       "R²      0.491912            1\n",
       "MAE    44.002901            1\n",
       "MAPE    0.400800            1"
      ]
     },
     "metadata": {},
     "output_type": "display_data"
    },
    {
     "name": "stdout",
     "output_type": "stream",
     "text": [
      "\n",
      "\n",
      " Based on the above details and graph,\n",
      " the best model is with the Polynomial degree of 1\n"
     ]
    }
   ],
   "source": [
    "best_degree = best_results_df['Best Degree'].mode().to_list()[0]\n",
    "best_degree\n",
    "display(best_results_df[['Best Score', 'Best Degree']])\n",
    "\n",
    "print(f'\\n\\n Based on the above details and graph,\\n the best model is with the Polynomial degree of {best_degree}')"
   ]
  },
  {
   "cell_type": "markdown",
   "metadata": {},
   "source": [
    "<br>  \n",
    "\n",
    "#### Analyzing the performance of the best model with test data"
   ]
  },
  {
   "cell_type": "code",
   "execution_count": 9,
   "metadata": {},
   "outputs": [
    {
     "data": {
      "text/html": [
       "<div>\n",
       "<style scoped>\n",
       "    .dataframe tbody tr th:only-of-type {\n",
       "        vertical-align: middle;\n",
       "    }\n",
       "\n",
       "    .dataframe tbody tr th {\n",
       "        vertical-align: top;\n",
       "    }\n",
       "\n",
       "    .dataframe thead th {\n",
       "        text-align: right;\n",
       "    }\n",
       "</style>\n",
       "<table border=\"1\" class=\"dataframe\">\n",
       "  <thead>\n",
       "    <tr style=\"text-align: right;\">\n",
       "      <th></th>\n",
       "      <th>R²</th>\n",
       "      <th>MAE</th>\n",
       "      <th>MAPE</th>\n",
       "    </tr>\n",
       "  </thead>\n",
       "  <tbody>\n",
       "    <tr>\n",
       "      <th>Best Model</th>\n",
       "      <td>0.481523</td>\n",
       "      <td>44.322581</td>\n",
       "      <td>0.34949</td>\n",
       "    </tr>\n",
       "  </tbody>\n",
       "</table>\n",
       "</div>"
      ],
      "text/plain": [
       "                  R²        MAE     MAPE\n",
       "Best Model  0.481523  44.322581  0.34949"
      ]
     },
     "metadata": {},
     "output_type": "display_data"
    }
   ],
   "source": [
    "best_model = make_pipeline(PolynomialFeatures(degree=best_degree), LinearRegression())\n",
    "best_model.fit(X_train, y_train)\n",
    "\n",
    "y_pred = best_model.predict(X_test)\n",
    "\n",
    "best_model_metrics = pd.DataFrame([\n",
    "    {\n",
    "        f'R\\u00b2': r2_score(y_test, y_pred), \n",
    "        'MAE': mean_absolute_error(y_test, y_pred), \n",
    "        'MAPE': mean_absolute_percentage_error(y_test, y_pred)\n",
    "    }\n",
    "], index=['Best Model'])\n",
    "\n",
    "display(best_model_metrics)"
   ]
  },
  {
   "cell_type": "markdown",
   "metadata": {},
   "source": [
    "The metrics with test data is similar to the metrics of cross validation best model with train data. <br>\n",
    "So this model gives consistent result without bias or variance."
   ]
  },
  {
   "cell_type": "markdown",
   "metadata": {},
   "source": [
    "---"
   ]
  }
 ],
 "metadata": {
  "kernelspec": {
   "display_name": "CSC8010",
   "language": "python",
   "name": "python3"
  },
  "language_info": {
   "codemirror_mode": {
    "name": "ipython",
    "version": 3
   },
   "file_extension": ".py",
   "mimetype": "text/x-python",
   "name": "python",
   "nbconvert_exporter": "python",
   "pygments_lexer": "ipython3",
   "version": "3.11.6"
  },
  "orig_nbformat": 4
 },
 "nbformat": 4,
 "nbformat_minor": 2
}
